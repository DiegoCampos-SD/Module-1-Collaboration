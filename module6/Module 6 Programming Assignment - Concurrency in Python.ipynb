{
 "cells": [
  {
   "cell_type": "markdown",
   "metadata": {},
   "source": [
    "13.1 Write the current date as a string to the text file today.txt."
   ]
  },
  {
   "cell_type": "code",
   "execution_count": 17,
   "metadata": {},
   "outputs": [],
   "source": [
    "from datetime import datetime\n",
    "\n",
    "currentDate = str(datetime.now())\n",
    "\n",
    "\n",
    "with open('today.txt', 'w') as file:\n",
    "    file.write(currentDate)\n",
    "\n"
   ]
  },
  {
   "cell_type": "markdown",
   "metadata": {},
   "source": [
    "13.2 Read the text file today.txt into the string today_string."
   ]
  },
  {
   "cell_type": "code",
   "execution_count": 28,
   "metadata": {},
   "outputs": [
    {
     "name": "stdout",
     "output_type": "stream",
     "text": [
      "<class 'str'>\n",
      "2024-12-01 15:10:13.962677\n"
     ]
    }
   ],
   "source": [
    "\n",
    "with open ('today.txt', 'r') as file:\n",
    "    date_string = file.read()\n",
    "    \n",
    "print(type(date_string))\n",
    "print(date_string)"
   ]
  },
  {
   "cell_type": "markdown",
   "metadata": {},
   "source": [
    "13.3 Parse the date from today_string."
   ]
  },
  {
   "cell_type": "code",
   "execution_count": 32,
   "metadata": {},
   "outputs": [
    {
     "name": "stdout",
     "output_type": "stream",
     "text": [
      "2024-12-01\n"
     ]
    }
   ],
   "source": [
    "from datetime import datetime\n",
    "\n",
    "with open('today.txt', 'r') as file:\n",
    "    date_string = file.read()\n",
    "\n",
    "parse_date = datetime.strptime(date_string, \"%Y-%m-%d %H:%M:%S.%f\").date()\n",
    "\n",
    "print(parse_date)"
   ]
  },
  {
   "cell_type": "markdown",
   "metadata": {},
   "source": [
    "15.1 Use multiprocessing to create three separate processes. Make each one wait a random number of seconds between zero and one, print the current time, and then exit."
   ]
  },
  {
   "cell_type": "code",
   "execution_count": 22,
   "metadata": {},
   "outputs": [
    {
     "name": "stdout",
     "output_type": "stream",
     "text": [
      "The process 1 at 15:54:39.696964 (Waited for 0.96 seconds)\n",
      "The process 2 at 15:54:40.667133 (Waited for 0.77 seconds)\n",
      "The process 3 at 15:54:41.445339 (Waited for 0.51 seconds)\n"
     ]
    }
   ],
   "source": [
    "import multiprocessing\n",
    "import time\n",
    "import random\n",
    "from datetime import datetime\n",
    "\n",
    "\n",
    "for _ in range(3):\n",
    "    current_date_time = datetime.now()\n",
    "    current_time = current_date_time.time()\n",
    "    wait_time = random.uniform(0, 1)\n",
    "    time.sleep(wait_time)\n",
    "    process = multiprocessing.Process(target=worker)\n",
    "    processes.append(process)\n",
    "    process.start()  \n",
    "    print(f\"The process {_+1} at {current_time} (Waited for {wait_time:.2f} seconds)\")\n",
    "\n"
   ]
  },
  {
   "cell_type": "code",
   "execution_count": null,
   "metadata": {},
   "outputs": [],
   "source": []
  }
 ],
 "metadata": {
  "kernelspec": {
   "display_name": "base",
   "language": "python",
   "name": "python3"
  },
  "language_info": {
   "codemirror_mode": {
    "name": "ipython",
    "version": 3
   },
   "file_extension": ".py",
   "mimetype": "text/x-python",
   "name": "python",
   "nbconvert_exporter": "python",
   "pygments_lexer": "ipython3",
   "version": "3.11.7"
  }
 },
 "nbformat": 4,
 "nbformat_minor": 2
}
