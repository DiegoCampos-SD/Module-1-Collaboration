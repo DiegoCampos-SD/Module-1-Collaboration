{
 "cells": [
  {
   "cell_type": "markdown",
   "metadata": {},
   "source": [
    "Things to Do"
   ]
  },
  {
   "cell_type": "markdown",
   "metadata": {},
   "source": [
    "4.1 Choose a number between 1 and 10 and assign it to the variable secret. Then, select another number between 1 and 10 and assign it to the variable guess. Next, write the conditional tests (if, else, and elif) to print the string 'too low' if guess is less than secret, 'too high' if greater than secret, and 'just right' if equal to secret."
   ]
  },
  {
   "cell_type": "code",
   "execution_count": null,
   "metadata": {},
   "outputs": [],
   "source": [
    "guessed = False\n",
    "secret = 8\n",
    "print(\"Guessing the number game\")\n",
    "guess = int(input(\"Please enter a integer number between 1 and 10: \"))\n",
    "while not guessed:\n",
    "    if guess < secret:\n",
    "        print(\"too low\")\n",
    "        guess = int(input(\"Please enter a integer number between 1 and 10: \"))\n",
    "    elif guess > secret:\n",
    "        print(\"too high\")\n",
    "        guess = int(input(\"Please enter a integer number between 1 and 10: \"))\n",
    "    else:\n",
    "        print(\"just right\")\n",
    "        guessed = True"
   ]
  },
  {
   "cell_type": "markdown",
   "metadata": {},
   "source": [
    "4.2 Assign True or False to the variables small and green. Write some if/else statements to print which of these matches those choices: cherry, pea, watermelon, pumpkin."
   ]
  },
  {
   "cell_type": "code",
   "execution_count": null,
   "metadata": {},
   "outputs": [],
   "source": [
    "small = True\n",
    "green = True\n",
    "foodList = [\"cherry\", \"pea\", \"watermelon\", \"pumpkin\"]\n",
    "stop = 'ZZZ'\n",
    "\n",
    "def userPrompt ():\n",
    "    food = input(f\"Please enter {foodList[0]}, {foodList[1]}, {foodList[2]}, {foodList[3]} or ZZZ to quit: \")\n",
    "    return food\n",
    "\n",
    "food = userPrompt()\n",
    "\n",
    "while food not in foodList and food != stop:\n",
    "        print(f\"{food} is not a valid item...\")\n",
    "        food = userPrompt()\n",
    "\n",
    "while food != stop:\n",
    "    if food == foodList[0]:\n",
    "        print(f\"{foodList[0]} small: {small}, green: {not green}\")\n",
    "        food = userPrompt()\n",
    "    elif food == foodList[1]:\n",
    "        print(f\"{foodList[1]} small: {small}, green: {green}\")\n",
    "        food = userPrompt()\n",
    "    elif food == foodList[2]:\n",
    "        print(f\"{foodList[2]} small: {not small}, green: {green}\")\n",
    "        food = userPrompt()\n",
    "    else:\n",
    "        print(f\"{foodList[3]} small: {not small}, green: {not green}\")\n",
    "        food = userPrompt()\n",
    "        \n",
    "print(\"Thank you for playing...\")        \n"
   ]
  },
  {
   "cell_type": "markdown",
   "metadata": {},
   "source": [
    "6.1 Use a for loop to print the values of the list [3, 2, 1, 0]."
   ]
  },
  {
   "cell_type": "code",
   "execution_count": null,
   "metadata": {},
   "outputs": [],
   "source": [
    "numberList = [3,2,1,0]\n",
    "\n",
    "for number in numberList:\n",
    "    print(number)"
   ]
  },
  {
   "cell_type": "markdown",
   "metadata": {},
   "source": [
    "6.2 Assign the value 7 to the variable guess_me, and the value 1 to the variable number. Write a while loop that compares number with guess_me. Print 'too low' if number is less than guess me. If number equals guess_me, print 'found it!' and then exit the loop. If number is greater than guess_me, print 'oops' and then exit the loop. Increment number at the end of the loop."
   ]
  },
  {
   "cell_type": "code",
   "execution_count": null,
   "metadata": {},
   "outputs": [],
   "source": [
    "print(\"Guessing the number game\")\n",
    "guess_me = 7\n",
    "number = 1\n",
    "\n",
    "\n",
    "while number <= guess_me+1:\n",
    "    if number > guess_me:\n",
    "        print(\"oops\")\n",
    "        break\n",
    "    elif number < guess_me:\n",
    "        print(\"too low\")\n",
    "        number += 1\n",
    "    else:\n",
    "        print(\"found it!\")\n",
    "        break"
   ]
  },
  {
   "cell_type": "markdown",
   "metadata": {},
   "source": [
    "6.3 Assign the value 5 to the variable guess_me. Use a for loop to iterate a variable called number over range(10). If number is less than guess_me, print 'too low'. If it equals guess_me, print found it! and then break out of the for loop. If number is greater than guess_me, print 'oops' and then exit the loop."
   ]
  },
  {
   "cell_type": "code",
   "execution_count": null,
   "metadata": {},
   "outputs": [],
   "source": [
    "print(\"Guessing the number game\")\n",
    "guess_me = 5\n",
    "\n",
    "\n",
    "for number in range(10):\n",
    "    if number > guess_me:\n",
    "        print(\"oops\")\n",
    "        break\n",
    "    elif number < guess_me:\n",
    "        print(\"too low\")\n",
    "        number += 1\n",
    "    else:\n",
    "        print(\"found it!\")\n",
    "        break"
   ]
  }
 ],
 "metadata": {
  "kernelspec": {
   "display_name": "base",
   "language": "python",
   "name": "python3"
  },
  "language_info": {
   "codemirror_mode": {
    "name": "ipython",
    "version": 3
   },
   "file_extension": ".py",
   "mimetype": "text/x-python",
   "name": "python",
   "nbconvert_exporter": "python",
   "pygments_lexer": "ipython3",
   "version": "3.11.7"
  }
 },
 "nbformat": 4,
 "nbformat_minor": 2
}
