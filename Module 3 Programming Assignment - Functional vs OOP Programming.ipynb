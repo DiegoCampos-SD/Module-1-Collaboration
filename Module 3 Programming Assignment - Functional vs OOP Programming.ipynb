{
 "cells": [
  {
   "cell_type": "markdown",
   "metadata": {},
   "source": [
    "Sort an Array of 0s, 1s, and 2s"
   ]
  },
  {
   "cell_type": "code",
   "execution_count": null,
   "metadata": {},
   "outputs": [],
   "source": [
    "class Solution:\n",
    "    \n",
    "    def getSortedArr(self, arr):\n",
    "        occ0 = 0\n",
    "        occ1 = 0\n",
    "        occ2 = 0\n",
    "        \n",
    "        for num in arr:\n",
    "            if num == 0:\n",
    "                occ0 += 1\n",
    "            elif num == 1:\n",
    "                occ1 += 1\n",
    "            else:\n",
    "                occ2 += 1\n",
    "                \n",
    "        index = 0\n",
    "        \n",
    "        for i in range(occ0):\n",
    "            arr[index] = 0\n",
    "            index += 1\n",
    "        \n",
    "        for i in range(occ1):\n",
    "            arr[index] = 1\n",
    "            index += 1\n",
    "        \n",
    "        for i in range(occ2):\n",
    "            arr[index] = 2\n",
    "            index += 1    \n",
    "        \n",
    "\n",
    "arr = [0, 1, 2, 0, 1, 2]\n",
    "arr2 = [0, 1, 1, 0, 1, 2, 1, 2, 0, 0, 0, 1]\n",
    "s1 = Solution()\n",
    "s2 = Solution()\n",
    "s1.getSortedArr(arr)\n",
    "s2.getSortedArr(arr2)\n",
    "\n",
    "print('Arr 1: ')\n",
    "for x in arr:\n",
    "    print(x, end = \" \")\n",
    "    \n",
    "\n",
    "print('\\nArr 2: ')\n",
    "for x in arr2:\n",
    "    print(x, end=\" \")"
   ]
  },
  {
   "cell_type": "markdown",
   "metadata": {},
   "source": [
    "Binary Search"
   ]
  },
  {
   "cell_type": "code",
   "execution_count": 2,
   "metadata": {},
   "outputs": [
    {
     "name": "stdout",
     "output_type": "stream",
     "text": [
      "4\n",
      "-1\n"
     ]
    }
   ],
   "source": [
    "class Solution:\n",
    "    def binarySearch(self, arr, low, length, k ):\n",
    "\n",
    "        if length >= low:\n",
    "            \n",
    "            mid = low + (length - low) // 2\n",
    "            \n",
    "            if arr[mid] == k:\n",
    "                return mid\n",
    "            \n",
    "            elif arr[mid] > k:\n",
    "                return self.binarySearch(arr, low, mid-1, k)\n",
    "            \n",
    "            else:\n",
    "                return self.binarySearch(arr, mid+1, length, k)\n",
    "        \n",
    "        else:\n",
    "            return -1\n",
    "\n",
    "arr = [1, 2, 3, 4, 5]\n",
    "k = 5\n",
    "arr2 = [11, 22, 33, 44, 55]\n",
    "k2 = 445\n",
    "\n",
    "s1 = Solution()\n",
    "s2 = Solution()\n",
    "\n",
    "result = s1.binarySearch(arr, 0, len(arr)-1, k)\n",
    "result2 = s1.binarySearch(arr2, 0, len(arr2)-1, k2)\n",
    "\n",
    "print (result)\n",
    "print (result2)\n"
   ]
  }
 ],
 "metadata": {
  "kernelspec": {
   "display_name": "base",
   "language": "python",
   "name": "python3"
  },
  "language_info": {
   "codemirror_mode": {
    "name": "ipython",
    "version": 3
   },
   "file_extension": ".py",
   "mimetype": "text/x-python",
   "name": "python",
   "nbconvert_exporter": "python",
   "pygments_lexer": "ipython3",
   "version": "3.11.7"
  }
 },
 "nbformat": 4,
 "nbformat_minor": 2
}
